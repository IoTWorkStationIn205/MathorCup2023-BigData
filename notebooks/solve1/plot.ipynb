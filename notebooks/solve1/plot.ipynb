{
 "cells": [
  {
   "cell_type": "code",
   "execution_count": null,
   "metadata": {
    "collapsed": true
   },
   "outputs": [],
   "source": [
    "import numpy as np\n",
    "import pandas as pd\n",
    "import matplotlib.pyplot as plt\n",
    "import seaborn\n",
    "from wordcloud import WordCloud"
   ]
  },
  {
   "cell_type": "code",
   "execution_count": null,
   "outputs": [],
   "source": [
    "sound = pd.read_excel('../../data/附件1语音业务用户满意度数据.xlsx', index_col=0)\n",
    "sound"
   ],
   "metadata": {
    "collapsed": false,
    "pycharm": {
     "is_executing": true
    }
   }
  },
  {
   "cell_type": "code",
   "execution_count": null,
   "outputs": [],
   "source": [
    "plt.rcParams['font.sans-serif'] = ['Kaiti']\n",
    "plt.rcParams['axes.unicode_minus'] = False\n",
    "font_path = r'SimHei.ttf'\n",
    "des1 = sound['用户描述'].dropna().astype(str).tolist()\n",
    "des1 = ','.join(des1)\n",
    "cloud1 = WordCloud(background_color='white', width=2000, height=2000, margin=2, font_path=font_path).generate(des1)\n",
    "\n",
    "plt.imshow(cloud1)\n",
    "plt.axis('off')"
   ],
   "metadata": {
    "collapsed": false
   }
  },
  {
   "cell_type": "code",
   "execution_count": null,
   "outputs": [],
   "source": [
    "cloud1.to_file('../../models/image/image1/des1_cloud.png')"
   ],
   "metadata": {
    "collapsed": false
   }
  },
  {
   "cell_type": "code",
   "execution_count": null,
   "outputs": [],
   "source": [
    "internet = pd.read_excel('../../data/附件2上网业务用户满意度数据.xlsx', index_col=0)\n",
    "internet"
   ],
   "metadata": {
    "collapsed": false
   }
  },
  {
   "cell_type": "code",
   "execution_count": null,
   "outputs": [],
   "source": [
    "des2 = internet['场景备注数据'].dropna().astype(str).tolist()\n",
    "des2 = ','.join(des2)\n",
    "cloud2 = WordCloud(background_color='white', width=2000, height=2000, margin=2, font_path=font_path).generate(des2)\n",
    "cloud2.to_file('../../models/image/image1/internet/des1_cloud.png')\n",
    "plt.imshow(cloud2)\n",
    "plt.axis('off')"
   ],
   "metadata": {
    "collapsed": false
   }
  },
  {
   "cell_type": "code",
   "execution_count": null,
   "outputs": [],
   "source": [
    "des3 = sound['用户描述.1'].dropna().astype(str).tolist()\n",
    "des3 = ','.join(des3)\n",
    "cloud3 = WordCloud(background_color='white', width=2000, height=2000, margin=2, font_path=font_path).generate(des3)\n",
    "cloud3.to_file('../../models/image/image1/des3_cloud.png')\n",
    "plt.imshow(cloud3)\n",
    "plt.axis('off')"
   ],
   "metadata": {
    "collapsed": false
   }
  },
  {
   "cell_type": "code",
   "execution_count": null,
   "outputs": [],
   "source": [
    "des4 = internet['现象备注数据'].dropna().astype(str).tolist()\n",
    "des4 = ','.join(des4)\n",
    "cloud4 = WordCloud(background_color='white', width=2000, height=2000, margin=2, font_path=font_path).generate(des4)\n",
    "cloud4.to_file('../../models/image/image1/internet/des4_cloud.png')\n",
    "plt.imshow(cloud4)\n",
    "plt.axis('off')"
   ],
   "metadata": {
    "collapsed": false
   }
  },
  {
   "cell_type": "code",
   "execution_count": null,
   "outputs": [],
   "source": [
    "des5 = sound['终端品牌类型'].dropna().astype(str).tolist()\n",
    "des5 = ','.join(des5)\n",
    "cloud5 = WordCloud(background_color='white', width=2000, height=2000, margin=2, font_path=font_path).generate(des5)\n",
    "cloud5.to_file('../../models/image/image1/des5_cloud.png')\n",
    "plt.imshow(cloud5)\n",
    "plt.axis('off')"
   ],
   "metadata": {
    "collapsed": false
   }
  },
  {
   "cell_type": "code",
   "execution_count": null,
   "outputs": [],
   "source": [
    "des5 = internet['终端品牌类型'].dropna().astype(str).tolist()\n",
    "des5 = ','.join(des5)\n",
    "cloud5 = WordCloud(background_color='white', width=2000, height=2000, margin=2, font_path=font_path).generate(des5)\n",
    "cloud5.to_file('../../models/image/image1/internet/des5_cloud.png')\n",
    "plt.imshow(cloud5)\n",
    "plt.axis('off')"
   ],
   "metadata": {
    "collapsed": false
   }
  },
  {
   "cell_type": "code",
   "execution_count": null,
   "outputs": [],
   "source": [],
   "metadata": {
    "collapsed": false
   }
  }
 ],
 "metadata": {
  "kernelspec": {
   "display_name": "Python 3",
   "language": "python",
   "name": "python3"
  },
  "language_info": {
   "codemirror_mode": {
    "name": "ipython",
    "version": 2
   },
   "file_extension": ".py",
   "mimetype": "text/x-python",
   "name": "python",
   "nbconvert_exporter": "python",
   "pygments_lexer": "ipython2",
   "version": "2.7.6"
  }
 },
 "nbformat": 4,
 "nbformat_minor": 0
}
