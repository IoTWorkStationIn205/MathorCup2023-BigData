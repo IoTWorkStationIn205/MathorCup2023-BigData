{
 "cells": [
  {
   "cell_type": "code",
   "execution_count": null,
   "metadata": {
    "collapsed": true,
    "jupyter": {
     "outputs_hidden": true
    }
   },
   "outputs": [],
   "source": [
    "import numpy as np\n",
    "import pandas as pd\n",
    "import matplotlib.pyplot as plt\n",
    "import seaborn as sns\n",
    "import klib as kl\n",
    "import missingno as mns\n",
    "import os\n",
    "import warnings\n",
    "import tqdm\n",
    "import numba\n",
    "\n",
    "os.environ['KERAS_BACKEND'] = 'tensorflow'\n",
    "os.environ[\"CUDA_VISIBLE_DEVICES\"] = \"0\"\n",
    "os.environ[\"KMP_DUPLICATE_LIB_OK\"] = \"TRUE\"\n",
    "warnings.filterwarnings('ignore')\n",
    "plt.rcParams['font.sans-serif'] = ['Kaiti']\n",
    "plt.rcParams['axes.unicode_minus'] = False\n",
    "PIC_PATH = \"../../models/image/image2/internet\"\n",
    "DATA_PATH = '../../data'\n",
    "RESULT_PATH = '../../data/summary/'\n",
    "MODEL_PATH = '../../models/model1'\n",
    "import pathlib2 as pl2\n",
    "import shutil\n",
    "\n",
    "\n",
    "def creat_dir():\n",
    "    pic_path = pl2.Path(PIC_PATH)\n",
    "    if os.path.exists(PIC_PATH):\n",
    "        shutil.rmtree(PIC_PATH)\n",
    "    pic_path.mkdir(parents=True, exist_ok=True)\n",
    "    if not os.path.exists(RESULT_PATH):\n",
    "        os.mkdir(RESULT_PATH)\n",
    "    if not os.path.exists(MODEL_PATH):\n",
    "        os.mkdir(MODEL_PATH)\n",
    "\n",
    "\n",
    "creat_dir()\n",
    "figure_count = 0\n",
    "\n",
    "\n",
    "def create_figure(figure_name, dpi=800):\n",
    "    global figure_count\n",
    "    figure_count += 1\n",
    "    plt.savefig(PIC_PATH + f'/figure{figure_count}_{figure_name}.png', dpi=dpi)\n",
    "\n",
    "\n",
    "from joblib import dump, load\n",
    "\n",
    "\n",
    "def save_model(model, model_name: str) -> None:\n",
    "    dump(model, MODEL_PATH + model_name)\n",
    "\n",
    "\n",
    "def load_model(model_name: str):\n",
    "    return load(MODEL_PATH + model_name)"
   ]
  },
  {
   "cell_type": "code",
   "execution_count": null,
   "metadata": {
    "collapsed": false,
    "jupyter": {
     "outputs_hidden": false
    }
   },
   "outputs": [],
   "source": [
    "data = pd.read_csv(RESULT_PATH + 'internet.csv', index_col=0)\n",
    "data"
   ]
  },
  {
   "cell_type": "code",
   "execution_count": null,
   "metadata": {
    "collapsed": false,
    "jupyter": {
     "outputs_hidden": false
    }
   },
   "outputs": [],
   "source": [
    "from sklearn.ensemble import RandomForestClassifier\n",
    "\n",
    "model: RandomForestClassifier = load_model('/best_model_internet.model')"
   ]
  },
  {
   "cell_type": "code",
   "execution_count": null,
   "metadata": {
    "collapsed": false,
    "jupyter": {
     "outputs_hidden": false
    }
   },
   "outputs": [],
   "source": [
    "impact = pd.DataFrame(index=data.columns[4:], data=model.feature_importances_, columns=['impact'])\n",
    "impact = impact.sort_values(by='impact', ascending=False)\n",
    "impact"
   ]
  },
  {
   "cell_type": "code",
   "execution_count": null,
   "metadata": {
    "collapsed": false,
    "jupyter": {
     "outputs_hidden": false
    }
   },
   "outputs": [],
   "source": [
    "plt.figure(figsize=(20, 9))\n",
    "plt.bar(impact.index[:10], impact['impact'][:10])\n",
    "create_figure('importance')"
   ]
  },
  {
   "cell_type": "code",
   "execution_count": null,
   "metadata": {
    "collapsed": false,
    "jupyter": {
     "outputs_hidden": false
    }
   },
   "outputs": [],
   "source": [
    "import toad\n",
    "\n",
    "train = data.iloc[:, 4:]\n",
    "target = data.iloc[:, :4]\n",
    "toad.quality(pd.concat([train, target.iloc[:, 0]], axis=1), target=target.columns[0]).to_excel(RESULT_PATH + 'internet_' +\n",
    "                                                                                               target.columns[0] + '.xlsx',\n",
    "                                                                                               index=True)"
   ]
  },
  {
   "cell_type": "code",
   "execution_count": null,
   "metadata": {
    "collapsed": false,
    "jupyter": {
     "outputs_hidden": false
    }
   },
   "outputs": [],
   "source": [
    "toad.quality(pd.concat([train, target.iloc[:, 1]], axis=1), target=target.columns[1]).to_excel(RESULT_PATH + 'internet_' +\n",
    "                                                                                               target.columns[1] + '.xlsx',\n",
    "                                                                                               index=True)"
   ]
  },
  {
   "cell_type": "code",
   "execution_count": null,
   "metadata": {
    "collapsed": false,
    "jupyter": {
     "outputs_hidden": false
    }
   },
   "outputs": [],
   "source": [
    "toad.quality(pd.concat([train, target.iloc[:, 2]], axis=1), target=target.columns[2]).to_excel(RESULT_PATH + 'internet_' +\n",
    "                                                                                               target.columns[2] + '.xlsx',\n",
    "                                                                                               index=True)"
   ]
  },
  {
   "cell_type": "code",
   "execution_count": null,
   "metadata": {
    "collapsed": false,
    "jupyter": {
     "outputs_hidden": false
    }
   },
   "outputs": [],
   "source": [
    "toad.quality(pd.concat([train, target.iloc[:, 3]], axis=1), target=target.columns[3]).to_excel(RESULT_PATH + 'internet_' +\n",
    "                                                                                               target.columns[3] + '.xlsx',\n",
    "                                                                                               index=True)"
   ]
  },
  {
   "cell_type": "code",
   "execution_count": null,
   "metadata": {
    "collapsed": false,
    "jupyter": {
     "outputs_hidden": false
    }
   },
   "outputs": [],
   "source": [
    "from shap import TreeExplainer\n",
    "import shap\n",
    "\n",
    "explain = TreeExplainer(model)\n",
    "shap_value = explain.shap_values(train)\n",
    "shap.summary_plot(shap_value[0], train, show=False)\n",
    "create_figure('internet_shap_' + target.columns[0])"
   ]
  },
  {
   "cell_type": "code",
   "execution_count": null,
   "metadata": {
    "collapsed": false,
    "jupyter": {
     "outputs_hidden": false
    }
   },
   "outputs": [],
   "source": [
    "shap.summary_plot(shap_value[1], train, show=False)\n",
    "create_figure('internet_shap_' + target.columns[1])"
   ]
  },
  {
   "cell_type": "code",
   "execution_count": null,
   "metadata": {
    "collapsed": false,
    "jupyter": {
     "outputs_hidden": false
    }
   },
   "outputs": [],
   "source": [
    "shap.summary_plot(shap_value[3], train, show=False)\n",
    "create_figure('internet_shap_' + target.columns[3])"
   ]
  },
  {
   "cell_type": "code",
   "execution_count": null,
   "metadata": {
    "collapsed": false,
    "jupyter": {
     "outputs_hidden": false
    }
   },
   "outputs": [],
   "source": [
    "shap.summary_plot(shap_value[2], train, show=False)\n",
    "create_figure('internet_shap_' + target.columns[2])"
   ]
  },
  {
   "cell_type": "code",
   "execution_count": null,
   "metadata": {
    "collapsed": false,
    "jupyter": {
     "outputs_hidden": false
    }
   },
   "outputs": [],
   "source": [
    "from sklearn.preprocessing import StandardScaler\n",
    "from sklearn.metrics import confusion_matrix\n",
    "\n",
    "plt.figure(figsize=(16, 16))\n",
    "plt.subplot(221)\n",
    "matrix = confusion_matrix(target.手机上网整体满意度, model.predict(train)[:, 0])\n",
    "matrix = pd.DataFrame(matrix, index=[i for i in range(1, 11)], columns=[i for i in range(1, 11)])\n",
    "sns.heatmap(StandardScaler().fit_transform(matrix))\n",
    "plt.title('手机上网整体满意度')\n",
    "plt.xlim((1, 10))\n",
    "plt.ylim((1, 10))\n",
    "plt.subplot(222)\n",
    "sns.heatmap(StandardScaler().fit_transform(matrix))\n",
    "matrix = confusion_matrix(target.手机上网稳定性, model.predict(train)[:, 0])\n",
    "matrix = pd.DataFrame(matrix, index=[i for i in range(1, 11)], columns=[i for i in range(1, 11)])\n",
    "plt.title('手机上网稳定性')\n",
    "plt.xlim((1, 10))\n",
    "plt.ylim((1, 10))\n",
    "plt.subplot(223)\n",
    "sns.heatmap(StandardScaler().fit_transform(matrix))\n",
    "matrix = confusion_matrix(target.手机上网速度, model.predict(train)[:, 0])\n",
    "matrix = pd.DataFrame(matrix, index=[i for i in range(1, 11)], columns=[i for i in range(1, 11)])\n",
    "plt.title('手机上网速度')\n",
    "plt.xlim((1, 10))\n",
    "plt.ylim((1, 10))\n",
    "plt.subplot(224)\n",
    "sns.heatmap(StandardScaler().fit_transform(matrix))\n",
    "matrix = confusion_matrix(target.网络覆盖与信号强度, model.predict(train)[:, 0])\n",
    "matrix = pd.DataFrame(matrix, index=[i for i in range(1, 11)], columns=[i for i in range(1, 11)])\n",
    "plt.title('网络覆盖与信号强度')\n",
    "plt.xlim((1, 10))\n",
    "plt.ylim((1, 10))\n",
    "create_figure('confusion_matrix')"
   ]
  },
  {
   "cell_type": "code",
   "execution_count": null,
   "metadata": {
    "collapsed": false,
    "jupyter": {
     "outputs_hidden": false
    }
   },
   "outputs": [],
   "source": [
    "from autoviz.AutoViz_Class import AutoViz_Class\n",
    "\n",
    "data = data.sort_values(by='手机上网整体满意度', ascending=True)\n",
    "av = AutoViz_Class()\n",
    "av.AutoViz(filename=None, depVar=\"手机上网整体满意度\", dfte=data, verbose=1, chart_format='png', save_plot_dir=PIC_PATH + '/')"
   ]
  },
  {
   "cell_type": "code",
   "execution_count": null,
   "metadata": {
    "collapsed": false,
    "jupyter": {
     "outputs_hidden": false
    }
   },
   "outputs": [],
   "source": []
  }
 ],
 "metadata": {
  "kernelspec": {
   "display_name": "Python 3 (ipykernel)",
   "language": "python",
   "name": "python3"
  },
  "language_info": {
   "codemirror_mode": {
    "name": "ipython",
    "version": 3
   },
   "file_extension": ".py",
   "mimetype": "text/x-python",
   "name": "python",
   "nbconvert_exporter": "python",
   "pygments_lexer": "ipython3",
   "version": "3.9.7"
  }
 },
 "nbformat": 4,
 "nbformat_minor": 4
}
